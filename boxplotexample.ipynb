{
 "cells": [
  {
   "cell_type": "code",
   "execution_count": 8,
   "metadata": {},
   "outputs": [
    {
     "name": "stdout",
     "output_type": "stream",
     "text": [
      "-40.20684342452664\n"
     ]
    },
    {
     "data": {
      "text/plain": [
       "[86.6212630086581,\n",
       " -41.167307758377916,\n",
       " 94.22140859213839,\n",
       " 81.21187560096331,\n",
       " 85.31686009941554,\n",
       " -48.40896473412883,\n",
       " 86.17467652973114,\n",
       " 83.45971032921062,\n",
       " 92.61046228355758,\n",
       " -40.452396470765834,\n",
       " 80.66113589744123,\n",
       " 91.78926891672431,\n",
       " 82.89280716880185,\n",
       " 80.39196747849707,\n",
       " 82.96053212672226,\n",
       " 81.59025178096846,\n",
       " 93.14594820906413,\n",
       " -41.32109414909764,\n",
       " -43.90910897185756,\n",
       " 83.33371021925879,\n",
       " -46.01990625542274,\n",
       " 81.63265500392717,\n",
       " 84.03846880229754,\n",
       " 80.2513018382536,\n",
       " -41.15505212364553,\n",
       " -41.43777388774463,\n",
       " 81.37735797555803,\n",
       " -44.70479293812963,\n",
       " -43.56575699930485,\n",
       " -55.112595083437185,\n",
       " -40.50811881889929,\n",
       " 82.49177596213923,\n",
       " 82.43927050154504,\n",
       " -42.29054222845398,\n",
       " 81.55643724192149,\n",
       " -46.77658986951238,\n",
       " -49.426782656491994,\n",
       " -58.55007902533457,\n",
       " 80.56085528618178,\n",
       " -44.25040321686356,\n",
       " 87.49490782330713,\n",
       " -48.013700215250736,\n",
       " 80.20945508940743,\n",
       " 85.30001879722855,\n",
       " -55.76661003421073,\n",
       " -47.30687628384322,\n",
       " -60.090385009703226,\n",
       " 86.58867360600111,\n",
       " -41.83357457713826,\n",
       " 94.83527839083861,\n",
       " -46.763626498935636,\n",
       " 87.69040630066657,\n",
       " 81.25605840917291,\n",
       " 83.55540131091956,\n",
       " -40.37372356894252,\n",
       " 83.45133409049967,\n",
       " 80.98238411692819,\n",
       " 80.78349332620812,\n",
       " 80.27998907097862,\n",
       " -43.001180501131955,\n",
       " -42.99138499164853,\n",
       " 83.99200214890182,\n",
       " 83.79567989791107,\n",
       " 80.73107310873431,\n",
       " -53.93907617064335,\n",
       " -45.69549049421467,\n",
       " 96.21572583621153,\n",
       " -47.11025140114529,\n",
       " 85.81883900777419,\n",
       " -54.1086357643225,\n",
       " -44.707815759755206,\n",
       " 86.0743615014523,\n",
       " -50.82750009959176,\n",
       " 83.33802778758293,\n",
       " -45.341261423891,\n",
       " 81.02333770885429,\n",
       " 82.28801513799131,\n",
       " -40.796038420628314,\n",
       " 100.30058646458303,\n",
       " 91.24430010872794,\n",
       " 93.6020428516832,\n",
       " -43.88122131309551,\n",
       " -40.89017827331082,\n",
       " -41.68814211045225,\n",
       " 80.39936908328991,\n",
       " 80.42630536880972,\n",
       " -41.15653588272466,\n",
       " -43.33194130099396,\n",
       " 84.60685702086542,\n",
       " 88.9908627156829,\n",
       " 80.87722055252766,\n",
       " 86.34124270402674,\n",
       " -44.035351214203175,\n",
       " 81.13407548635642,\n",
       " -43.111266197948126,\n",
       " -44.60615822900718,\n",
       " 90.446046083879,\n",
       " 83.30553995693458,\n",
       " -42.672079371205704,\n",
       " 85.73738494637107,\n",
       " -42.55869191153497,\n",
       " -41.939082192101445,\n",
       " -49.066090205507905,\n",
       " -46.48802578538027,\n",
       " 80.65015591533253,\n",
       " -46.82411784310345,\n",
       " -59.1007631487076,\n",
       " -51.385361437676295,\n",
       " -40.765921698167055,\n",
       " 80.6567508036,\n",
       " -48.64982617967331,\n",
       " 80.51562450248638,\n",
       " 91.04286837938555,\n",
       " 94.75964427126753,\n",
       " -41.43724748688005,\n",
       " -46.72616131525244,\n",
       " 90.18195283878984,\n",
       " -40.89758957637336,\n",
       " -40.30473156137035,\n",
       " -44.86104113763501,\n",
       " -48.98805951594623,\n",
       " -40.217695775018626,\n",
       " -45.22698853625806,\n",
       " -64.03951953596896,\n",
       " 86.27109580018784,\n",
       " -41.66820742347001,\n",
       " 88.81405674035861,\n",
       " 89.33618386011776,\n",
       " 82.01645623693935,\n",
       " -41.3240966585134,\n",
       " 91.93504622108125,\n",
       " 87.56916437838196,\n",
       " 86.18337068729696,\n",
       " 91.93882484006488,\n",
       " -42.815424067642084]"
      ]
     },
     "execution_count": 8,
     "metadata": {},
     "output_type": "execute_result"
    }
   ],
   "source": [
    "#https://towardsdatascience.com/5-ways-to-detect-outliers-that-every-data-scientist-should-know-python-code-70a54335a623\n",
    "\n",
    "import pandas as pd\n",
    "import numpy as np\n",
    "import matplotlib.pyplot as plt\n",
    "#np.seed(1)\n",
    "anomalies = []\n",
    "\n",
    "# multiply and add by random numbers to get some real values\n",
    "data = np.random.randn(50000)  * 20 + 20\n",
    "\n",
    "# Function to Detection Outlier on one-dimentional datasets.\n",
    "def find_anomalies(random_data):\n",
    "    # Set upper and lower limit to 3 standard deviation\n",
    "    random_data_std = np.std(random_data)\n",
    "    random_data_mean = np.mean(random_data)\n",
    "    anomaly_cut_off = random_data_std * 3\n",
    "    \n",
    "    lower_limit  = random_data_mean - anomaly_cut_off \n",
    "    upper_limit = random_data_mean + anomaly_cut_off\n",
    "    print(lower_limit)\n",
    "    # Generate outliers\n",
    "    for outlier in random_data:\n",
    "        if outlier > upper_limit or outlier < lower_limit:\n",
    "            anomalies.append(outlier)\n",
    "    return anomalies\n",
    "\n",
    "find_anomalies(data)"
   ]
  },
  {
   "cell_type": "code",
   "execution_count": 10,
   "metadata": {},
   "outputs": [
    {
     "data": {
      "text/plain": [
       "<matplotlib.axes._subplots.AxesSubplot at 0x26d764cf208>"
      ]
     },
     "execution_count": 10,
     "metadata": {},
     "output_type": "execute_result"
    },
    {
     "data": {
      "image/png": "[encoded data removed]",
      "text/plain": [
       "<Figure size 432x288 with 1 Axes>"
      ]
     },
     "metadata": {
      "needs_background": "light"
     },
     "output_type": "display_data"
    }
   ],
   "source": [
    "\n",
    "import seaborn as sns\n",
    "import matplotlib.pyplot as plt\n",
    "\n",
    "d1 = np.random.randn(50000)  * 20 + 20\n",
    "\n",
    "sns.boxplot(data=d1)"
   ]
  },
  {
   "cell_type": "code",
   "execution_count": null,
   "metadata": {},
   "outputs": [],
   "source": []
  }
 ],
 "metadata": {
  "kernelspec": {
   "display_name": "Python 3",
   "language": "python",
   "name": "python3"
  },
  "language_info": {
   "codemirror_mode": {
    "name": "ipython",
    "version": 3
   },
   "file_extension": ".py",
   "mimetype": "text/x-python",
   "name": "python",
   "nbconvert_exporter": "python",
   "pygments_lexer": "ipython3",
   "version": "3.7.7"
  }
 },
 "nbformat": 4,
 "nbformat_minor": 4
}
